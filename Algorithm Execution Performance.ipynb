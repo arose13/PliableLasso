{
 "cells": [
  {
   "cell_type": "markdown",
   "metadata": {},
   "source": [
    "# Algorithm Execution Performance"
   ]
  },
  {
   "cell_type": "code",
   "execution_count": 1,
   "metadata": {},
   "outputs": [],
   "source": [
    "import numpy as np\n",
    "from scipy import stats\n",
    "from plasso import PliableLasso"
   ]
  },
  {
   "cell_type": "code",
   "execution_count": 2,
   "metadata": {},
   "outputs": [],
   "source": [
    "# Setup\n",
    "def create_dataset(n, p, k):\n",
    "    beta_0 = 0\n",
    "    theta_0 = np.zeros(k)\n",
    "\n",
    "    beta = np.zeros(p)\n",
    "    beta[:4] = [2, -2, 2, 2]\n",
    "\n",
    "    theta = np.zeros((p, k))\n",
    "    theta[2, 0] = 2.0\n",
    "    theta[3, 1] = -2.0\n",
    "\n",
    "    z = stats.bernoulli(p=0.5).rvs(size=(n, k))\n",
    "    print(z.shape)\n",
    "\n",
    "    x = stats.norm().rvs(size=(n, p))\n",
    "    print(x.shape)\n",
    "\n",
    "    y = x[:, 0] * beta[0]\n",
    "    y += x[:, 1] * beta[1]\n",
    "    y += x[:, 2] * (beta[2] + 2*z[:, 0])\n",
    "    y += x[:, 3] * (beta[3] - 2*z[:, 1])\n",
    "\n",
    "    y_gt = y.copy()\n",
    "    y += 0.5 * stats.norm().rvs(n)  # Add noise from paper\n",
    "    print(y.shape)\n",
    "    return x, z, y, y_gt"
   ]
  },
  {
   "cell_type": "markdown",
   "metadata": {},
   "source": [
    "## Performance"
   ]
  },
  {
   "cell_type": "code",
   "execution_count": 3,
   "metadata": {},
   "outputs": [
    {
     "name": "stdout",
     "output_type": "stream",
     "text": [
      "(1000, 4)\n",
      "(1000, 50)\n",
      "(1000,)\n"
     ]
    }
   ],
   "source": [
    "x, z, y, y_gt = create_dataset(1000, 50, 4)"
   ]
  },
  {
   "cell_type": "code",
   "execution_count": 4,
   "metadata": {},
   "outputs": [
    {
     "name": "stdout",
     "output_type": "stream",
     "text": [
      "79.6 ms ± 1.54 ms per loop (mean ± std. dev. of 7 runs, 10 loops each)\n"
     ]
    }
   ],
   "source": [
    "%%timeit\n",
    "plasso = PliableLasso(min_lam=2, fit_intercepts=False, max_iter=100)\n",
    "plasso.fit(x, z, y)"
   ]
  },
  {
   "cell_type": "code",
   "execution_count": 5,
   "metadata": {},
   "outputs": [
    {
     "name": "stdout",
     "output_type": "stream",
     "text": [
      "(10000, 4)\n",
      "(10000, 50)\n",
      "(10000,)\n"
     ]
    }
   ],
   "source": [
    "x, z, y, y_gt = create_dataset(int(10e3), 50, 4)"
   ]
  },
  {
   "cell_type": "code",
   "execution_count": 6,
   "metadata": {},
   "outputs": [
    {
     "name": "stdout",
     "output_type": "stream",
     "text": [
      "490 ms ± 24.2 ms per loop (mean ± std. dev. of 7 runs, 1 loop each)\n"
     ]
    }
   ],
   "source": [
    "%%timeit\n",
    "plasso = PliableLasso(min_lam=2, fit_intercepts=False, max_iter=100)\n",
    "plasso.fit(x, z, y)"
   ]
  },
  {
   "cell_type": "code",
   "execution_count": 7,
   "metadata": {},
   "outputs": [
    {
     "name": "stdout",
     "output_type": "stream",
     "text": [
      "(1000, 4)\n",
      "(1000, 500)\n",
      "(1000,)\n"
     ]
    }
   ],
   "source": [
    "x, z, y, y_gt = create_dataset(1000, 500, 4)"
   ]
  },
  {
   "cell_type": "code",
   "execution_count": 8,
   "metadata": {},
   "outputs": [
    {
     "name": "stdout",
     "output_type": "stream",
     "text": [
      "2.15 s ± 120 ms per loop (mean ± std. dev. of 7 runs, 1 loop each)\n"
     ]
    }
   ],
   "source": [
    "%%timeit\n",
    "plasso = PliableLasso(min_lam=2, fit_intercepts=False, max_iter=100)\n",
    "plasso.fit(x, z, y)"
   ]
  },
  {
   "cell_type": "code",
   "execution_count": 9,
   "metadata": {},
   "outputs": [
    {
     "name": "stdout",
     "output_type": "stream",
     "text": [
      "(1000, 40)\n",
      "(1000, 50)\n",
      "(1000,)\n"
     ]
    }
   ],
   "source": [
    "x, z, y, y_gt = create_dataset(1000, 50, 40)"
   ]
  },
  {
   "cell_type": "code",
   "execution_count": 10,
   "metadata": {},
   "outputs": [
    {
     "name": "stdout",
     "output_type": "stream",
     "text": [
      "183 ms ± 2.62 ms per loop (mean ± std. dev. of 7 runs, 10 loops each)\n"
     ]
    }
   ],
   "source": [
    "%%timeit\n",
    "plasso = PliableLasso(min_lam=2, fit_intercepts=False, max_iter=100)\n",
    "plasso.fit(x, z, y)"
   ]
  },
  {
   "cell_type": "markdown",
   "metadata": {},
   "source": [
    "_Stephen Anthony Rose_"
   ]
  }
 ],
 "metadata": {
  "kernelspec": {
   "display_name": "Python 3",
   "language": "python",
   "name": "python3"
  },
  "language_info": {
   "codemirror_mode": {
    "name": "ipython",
    "version": 3
   },
   "file_extension": ".py",
   "mimetype": "text/x-python",
   "name": "python",
   "nbconvert_exporter": "python",
   "pygments_lexer": "ipython3",
   "version": "3.6.4"
  }
 },
 "nbformat": 4,
 "nbformat_minor": 2
}
